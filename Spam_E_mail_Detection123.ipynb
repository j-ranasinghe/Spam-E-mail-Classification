{
  "cells": [
    {
      "cell_type": "markdown",
      "metadata": {
        "id": "view-in-github",
        "colab_type": "text"
      },
      "source": [
        "<a href=\"https://colab.research.google.com/github/j-ranasinghe/Spam-E-mail-Classification/blob/main/Spam_E_mail_Detection123.ipynb\" target=\"_parent\"><img src=\"https://colab.research.google.com/assets/colab-badge.svg\" alt=\"Open In Colab\"/></a>"
      ]
    },
    {
      "cell_type": "markdown",
      "metadata": {
        "id": "Hc11Rg5iLnAE"
      },
      "source": [
        "# Importing the libraries"
      ]
    },
    {
      "cell_type": "code",
      "execution_count": null,
      "metadata": {
        "id": "0MKEZkksTyXh"
      },
      "outputs": [],
      "source": [
        "import time\n",
        "import matplotlib.pyplot as plt\n",
        "import pandas as pd\n",
        "import numpy as np\n",
        "import seaborn as sns\n",
        "from sklearn.preprocessing import StandardScaler\n",
        "from scipy.stats.mstats import winsorize\n",
        "from sklearn.decomposition import PCA\n",
        "from imblearn.over_sampling import SMOTE\n",
        "from sklearn.model_selection import StratifiedKFold\n",
        "from sklearn.metrics import classification_report, confusion_matrix, accuracy_score\n",
        "from sklearn.neighbors import KNeighborsClassifier\n",
        "from sklearn.tree import DecisionTreeClassifier"
      ]
    },
    {
      "cell_type": "markdown",
      "metadata": {
        "id": "ncchiEtWLjvK"
      },
      "source": [
        "# Importing the dataset"
      ]
    },
    {
      "cell_type": "code",
      "execution_count": null,
      "metadata": {
        "id": "QGr1BgWjU9ID"
      },
      "outputs": [],
      "source": [
        "cols = ['capital_run_length_total','capital_run_length_longest','capital_run_length_average','char_freq_#','char_freq_$','char_freq_!','char_freq_[','char_freq_(','char_freq_;','word_freq_conference','word_freq_table','word_freq_edu','word_freq_re','word_freq_project','word_freq_original','word_freq_meeting','word_freq_cs','word_freq_direct','word_freq_pm','word_freq_parts','word_freq_1999','word_freq_technology','word_freq_85','word_freq_415','word_freq_data','word_freq_857','word_freq_telnet','word_freq_labs','word_freq_lab','word_freq_650','word_freq_george','word_freq_hpl','word_freq_hp','word_freq_money','word_freq_000','word_freq_font','word_freq_your','word_freq_credit','word_freq_you','word_freq_email','word_freq_business','word_freq_free','word_freq_addresses','word_freq_report','word_freq_people','word_freq_will','word_freq_receive','word_freq_mail','word_freq_order','word_freq_internet','word_freq_remove','word_freq_over','word_freq_our','word_freq_3d','word_freq_all','word_freq_address','word_freq_make','class']\n",
        "df = pd.read_csv('spambase.data' , names= cols )\n",
        "print(df.head())"
      ]
    },
    {
      "cell_type": "markdown",
      "metadata": {
        "id": "J9cECXESLfhx"
      },
      "source": [
        "# Data Visualisation"
      ]
    },
    {
      "cell_type": "code",
      "execution_count": null,
      "metadata": {
        "id": "p2SRDU7yLwYq"
      },
      "outputs": [],
      "source": [
        "print(df.dtypes) #Check the data type of the attributes\n"
      ]
    },
    {
      "cell_type": "code",
      "execution_count": null,
      "metadata": {
        "id": "5c_MypJcLwYq"
      },
      "outputs": [],
      "source": [
        "print(df.shape) #Check the shape of the dataset"
      ]
    },
    {
      "cell_type": "code",
      "execution_count": null,
      "metadata": {
        "id": "LCstDvnCLwYr"
      },
      "outputs": [],
      "source": [
        "#Check the distribution of the spam vs not-spam \n",
        "new_class = pd.Categorical(df[\"class\"])\n",
        "new_class = new_class.rename_categories([\"spam\",\"not_spam\"])              \n",
        "new_class.describe()"
      ]
    },
    {
      "cell_type": "code",
      "execution_count": null,
      "metadata": {
        "id": "zEzQ9CHILwYs"
      },
      "outputs": [],
      "source": [
        "#Boxplot to for outliers\n",
        "for label in cols[:-1]:\n",
        "    # for label in range(0,5):\n",
        "    df.plot(\n",
        "    kind='box', \n",
        "    subplots=True, \n",
        "    sharey=False, \n",
        "    figsize=(70, 25)\n",
        "    )\n",
        "    plt.subplots_adjust(wspace=0.9) \n",
        "    plt.show()\n",
        "    break"
      ]
    },
    {
      "cell_type": "markdown",
      "source": [
        "#Data Cleaning"
      ],
      "metadata": {
        "collapsed": false,
        "id": "8LoPYdYWLwYs"
      }
    },
    {
      "cell_type": "code",
      "source": [
        "# Find NaNs and duplicates in df\n",
        "\n",
        "print('There are {} missing values or NaNs in data.'\n",
        "      .format(df.isnull().values.sum()))\n",
        "\n",
        "temp_energy = df.duplicated(keep='first').sum()\n",
        "\n",
        "print('There are {} duplicate rows in data based on all columns.'\n",
        "      .format(temp_energy))\n",
        "\n",
        "df = df.drop_duplicates()   #drop the duplicates"
      ],
      "metadata": {
        "id": "DM9FBMzIScMR"
      },
      "execution_count": null,
      "outputs": []
    },
    {
      "cell_type": "code",
      "source": [
        "# extract the features\n",
        "features = df.drop('class', axis=1)\n",
        "# extract the labels\n",
        "labels = df['class']"
      ],
      "metadata": {
        "id": "9QXS232Dzbdl"
      },
      "execution_count": null,
      "outputs": []
    },
    {
      "cell_type": "code",
      "source": [
        "# Scale the data\n",
        "scaler = StandardScaler()\n",
        "X_scaled = scaler.fit_transform(features)"
      ],
      "metadata": {
        "id": "JYJ8hDPAZ3fW"
      },
      "execution_count": null,
      "outputs": []
    },
    {
      "cell_type": "code",
      "source": [
        "# Handle outliers\n",
        "X_winsorized = winsorize(X_scaled, limits=[0.05, 0.05])"
      ],
      "metadata": {
        "id": "NNJKTGH5vPvd"
      },
      "execution_count": null,
      "outputs": []
    },
    {
      "cell_type": "markdown",
      "source": [
        "# PCA"
      ],
      "metadata": {
        "id": "l4kKZYl9BWcq"
      }
    },
    {
      "cell_type": "code",
      "source": [
        "pca = PCA(n_components=20)\n",
        "X_pca = pca.fit_transform(X_winsorized)"
      ],
      "metadata": {
        "id": "kSm_R43Oc9S7"
      },
      "execution_count": null,
      "outputs": []
    },
    {
      "cell_type": "code",
      "source": [
        "print(X_winsorized.shape) # shape of dataframe before applying PCA\n",
        "print(X_pca.shape) # shape of dataframe after applying PCA"
      ],
      "metadata": {
        "id": "QE1NP_M4dJ9V"
      },
      "execution_count": null,
      "outputs": []
    },
    {
      "cell_type": "code",
      "source": [
        "# handle class imbalance using oversampling technique\n",
        "smote = SMOTE()\n",
        "X_resampled, y_resampled = smote.fit_resample(X_pca, labels)"
      ],
      "metadata": {
        "id": "XhQ7gYdUdXG7"
      },
      "execution_count": null,
      "outputs": []
    },
    {
      "cell_type": "markdown",
      "source": [
        "\n",
        "\n",
        "---\n",
        "\n"
      ],
      "metadata": {
        "id": "4dmmlqjVw0Jz"
      }
    },
    {
      "cell_type": "code",
      "source": [
        "#K fold validation implementation using 5 splits\n",
        "kfold = StratifiedKFold(n_splits=5, shuffle=True, random_state=42)"
      ],
      "metadata": {
        "id": "PzS5z0PC2Osn"
      },
      "execution_count": null,
      "outputs": []
    },
    {
      "cell_type": "markdown",
      "source": [
        "# KNN classification"
      ],
      "metadata": {
        "id": "n63sTo1qWGvQ"
      }
    },
    {
      "cell_type": "code",
      "source": [
        "scores = []\n",
        "y_true = []\n",
        "y_pred = []\n",
        "conf_matrices = []\n",
        "class_reports = []\n",
        "execution_times = []\n",
        "\n",
        "for train, test in kfold.split(X_resampled, y_resampled):\n",
        "    knn = KNeighborsClassifier(n_neighbors=5)\n",
        "    knn.fit(X_resampled[train], y_resampled[train])\n",
        "    y_pred_fold = knn.predict(X_resampled[test])\n",
        "    y_true_fold = y_resampled[test]\n",
        "\n",
        "    # record start time\n",
        "    start_time = time.time()\n",
        "    score = accuracy_score(y_true_fold, y_pred_fold)\n",
        "    scores.append(score)\n",
        "    y_true.extend(y_true_fold)\n",
        "    y_pred.extend(y_pred_fold)\n",
        "\n",
        "    # calculate and store accuracy score\n",
        "    score = accuracy_score(y_resampled[test], y_pred_fold) \n",
        "    scores.append(score)\n",
        "    \n",
        "    # get the confusion matrix\n",
        "    conf_matrix = confusion_matrix(y_resampled[test], y_pred_fold)   \n",
        "    conf_matrices.append(conf_matrix) \n",
        "\n",
        "    # get the classification report\n",
        "    class_report = classification_report(y_resampled[test], y_pred_fold) \n",
        "    class_reports.append(class_report)\n",
        "\n",
        "    # record end time and calculate execution time\n",
        "    end_time = time.time()\n",
        "    execution_time = end_time - start_time\n",
        "    execution_times.append(execution_time)\n",
        "\n",
        "    # print results for each fold\n",
        "    print(\"Fold results:\")\n",
        "    print(\"Accuracy score:\", score)\n",
        "    print(\"Confusion matrix:\")\n",
        "    print(conf_matrix)\n",
        "    print(\"\\nClassification report:\")\n",
        "    print(class_report)\n",
        "    print(\"Execution time: {:.2f} seconds\".format(execution_time))\n",
        "    print(\"=\"*80)\n",
        "    print(\"\")"
      ],
      "metadata": {
        "id": "N2lCbLdrwa6G"
      },
      "execution_count": null,
      "outputs": []
    },
    {
      "cell_type": "markdown",
      "source": [
        "# Evaluations"
      ],
      "metadata": {
        "id": "dH1oOJu3WB5A"
      }
    },
    {
      "cell_type": "code",
      "source": [
        "print(\"Average accuracy score:\", sum(scores)/len(scores))\n",
        "print(\"Classification report:\\n\", classification_report(y_true, y_pred))\n",
        "print(\"Confusion matrix:\\n\", confusion_matrix(y_true, y_pred))\n",
        "avg_execution_time = sum(execution_times)/len(execution_times)\n",
        "print(\"Average execution time: {:.2f} seconds\".format(avg_execution_time))"
      ],
      "metadata": {
        "id": "dk4Qfp7au4dV"
      },
      "execution_count": null,
      "outputs": []
    },
    {
      "cell_type": "markdown",
      "source": [
        "\n",
        "\n",
        "---\n",
        "\n"
      ],
      "metadata": {
        "id": "fJ3qFUuNwyRr"
      }
    },
    {
      "cell_type": "markdown",
      "source": [
        "# Decision Tree classification"
      ],
      "metadata": {
        "id": "MDq0HG7WWXcx"
      }
    },
    {
      "cell_type": "code",
      "source": [
        "scores1 = []\n",
        "y_true1= []\n",
        "y_pred1 = []\n",
        "conf_matrices1 = []\n",
        "class_reports1 = []\n",
        "execution_times1 = []\n",
        "\n",
        "# loop to run the Decision tree classification through each fold\n",
        "for train, test in kfold.split(X_resampled, y_resampled):\n",
        "    dtc = DecisionTreeClassifier(random_state=42, criterion='gini', max_depth=5,min_samples_split=7)\n",
        "    dtc.fit(X_resampled[train], y_resampled[train])\n",
        "    y_pred_fold = dtc.predict(X_resampled[test])\n",
        "    y_true_fold = y_resampled[test]\n",
        "\n",
        "    # record start time\n",
        "    start_time = time.time()\n",
        "\n",
        "    score = accuracy_score(y_true_fold, y_pred_fold)\n",
        "    scores1.append(score)\n",
        "    y_true1.extend(y_true_fold)\n",
        "    y_pred1.extend(y_pred_fold)\n",
        "\n",
        "    # calculate and store accuracy score\n",
        "    score = accuracy_score(y_resampled[test], y_pred_fold) \n",
        "    scores1.append(score)\n",
        "    \n",
        "    # get the confusion matrix\n",
        "    conf_matrix = confusion_matrix(y_resampled[test], y_pred_fold)   \n",
        "    conf_matrices1.append(conf_matrix) \n",
        "\n",
        "    # get the classification report\n",
        "    class_report = classification_report(y_resampled[test], y_pred_fold) \n",
        "    class_reports1.append(class_report)\n",
        "\n",
        "    # record end time and calculate execution time\n",
        "    end_time = time.time()\n",
        "    execution_time = end_time - start_time\n",
        "    execution_times1.append(execution_time)\n",
        "\n",
        "    # print results for each fold\n",
        "    print(\"Fold results:\")\n",
        "    print(\"Accuracy score:\", score)\n",
        "    print(\"Confusion matrix:\")\n",
        "    print(conf_matrix)\n",
        "    print(\"\\nClassification report:\")\n",
        "    print(class_report)\n",
        "    print(\"Execution time: {:.2f} seconds\".format(execution_time))\n",
        "    print(\"=\"*80)\n",
        "    print(\"\")"
      ],
      "metadata": {
        "id": "95iFf4dA7cGF"
      },
      "execution_count": null,
      "outputs": []
    },
    {
      "cell_type": "markdown",
      "source": [
        "# Evaluations"
      ],
      "metadata": {
        "id": "cOqe_ZdJabd2"
      }
    },
    {
      "cell_type": "code",
      "source": [
        "print(\"Average accuracy score:\", sum(scores1)/len(scores1))\n",
        "print(\"Classification report:\\n\", classification_report(y_true1, y_pred1))\n",
        "print(\"Confusion matrix:\\n\", confusion_matrix(y_true1, y_pred1))\n",
        "avg_execution_time = sum(execution_times1)/len(execution_times1)\n",
        "print(\"Average execution time: {:.2f} seconds\".format(avg_execution_time))"
      ],
      "metadata": {
        "id": "_ea4n9Z08Qqj"
      },
      "execution_count": null,
      "outputs": []
    }
  ],
  "metadata": {
    "colab": {
      "provenance": [],
      "include_colab_link": true
    },
    "kernelspec": {
      "display_name": "Python 3",
      "language": "python",
      "name": "python3"
    },
    "language_info": {
      "codemirror_mode": {
        "name": "ipython",
        "version": 3
      },
      "file_extension": ".py",
      "mimetype": "text/x-python",
      "name": "python",
      "nbconvert_exporter": "python",
      "pygments_lexer": "ipython3",
      "version": "3.7.4"
    },
    "vscode": {
      "interpreter": {
        "hash": "d983aa2a2bc164ca145b74c30a077245dc65a11395320957faf99b524e3477cb"
      }
    },
    "gpuClass": "standard"
  },
  "nbformat": 4,
  "nbformat_minor": 0
}