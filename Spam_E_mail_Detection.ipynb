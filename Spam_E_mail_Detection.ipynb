{
  "cells": [
    {
      "cell_type": "markdown",
      "metadata": {
        "id": "view-in-github",
        "colab_type": "text"
      },
      "source": [
        "<a href=\"https://colab.research.google.com/github/j-ranasinghe/Spam-E-mail-Classification/blob/main/Spam_E_mail_Detection.ipynb\" target=\"_parent\"><img src=\"https://colab.research.google.com/assets/colab-badge.svg\" alt=\"Open In Colab\"/></a>"
      ]
    },
    {
      "cell_type": "markdown",
      "metadata": {
        "id": "Hc11Rg5iLnAE"
      },
      "source": [
        "# Importing the libraries"
      ]
    },
    {
      "cell_type": "code",
      "execution_count": null,
      "metadata": {
        "id": "0MKEZkksTyXh"
      },
      "outputs": [],
      "source": [
        "import time\n",
        "import matplotlib.pyplot as plt\n",
        "import pandas as pd\n",
        "import numpy as np\n",
        "from sklearn.preprocessing import StandardScaler\n",
        "from scipy.stats.mstats import winsorize\n",
        "from sklearn.decomposition import PCA\n",
        "from imblearn.over_sampling import SMOTE\n",
        "from sklearn.model_selection import train_test_split\n",
        "from sklearn.metrics import classification_report, confusion_matrix, accuracy_score\n",
        "from sklearn.neighbors import KNeighborsClassifier\n",
        "from sklearn.tree import DecisionTreeClassifier"
      ]
    },
    {
      "cell_type": "markdown",
      "metadata": {
        "id": "ncchiEtWLjvK"
      },
      "source": [
        "# Importing the dataset"
      ]
    },
    {
      "cell_type": "code",
      "execution_count": null,
      "metadata": {
        "id": "QGr1BgWjU9ID",
        "outputId": "814730f5-01a2-41f1-a5b9-4f19969a622a",
        "colab": {
          "base_uri": "https://localhost:8080/"
        }
      },
      "outputs": [
        {
          "output_type": "stream",
          "name": "stdout",
          "text": [
            "   capital_run_length_total  capital_run_length_longest  \\\n",
            "0                      0.00                        0.64   \n",
            "1                      0.21                        0.28   \n",
            "2                      0.06                        0.00   \n",
            "3                      0.00                        0.00   \n",
            "4                      0.00                        0.00   \n",
            "\n",
            "   capital_run_length_average  char_freq_#  char_freq_$  char_freq_!  \\\n",
            "0                        0.64          0.0         0.32         0.00   \n",
            "1                        0.50          0.0         0.14         0.28   \n",
            "2                        0.71          0.0         1.23         0.19   \n",
            "3                        0.00          0.0         0.63         0.00   \n",
            "4                        0.00          0.0         0.63         0.00   \n",
            "\n",
            "   char_freq_[  char_freq_(  char_freq_;  word_freq_conference  ...  \\\n",
            "0         0.00         0.00         0.00                  0.00  ...   \n",
            "1         0.21         0.07         0.00                  0.94  ...   \n",
            "2         0.19         0.12         0.64                  0.25  ...   \n",
            "3         0.31         0.63         0.31                  0.63  ...   \n",
            "4         0.31         0.63         0.31                  0.63  ...   \n",
            "\n",
            "   word_freq_order  word_freq_internet  word_freq_remove  word_freq_over  \\\n",
            "0             0.00               0.000               0.0           0.778   \n",
            "1             0.00               0.132               0.0           0.372   \n",
            "2             0.01               0.143               0.0           0.276   \n",
            "3             0.00               0.137               0.0           0.137   \n",
            "4             0.00               0.135               0.0           0.135   \n",
            "\n",
            "   word_freq_our  word_freq_3d  word_freq_all  word_freq_address  \\\n",
            "0          0.000         0.000          3.756                 61   \n",
            "1          0.180         0.048          5.114                101   \n",
            "2          0.184         0.010          9.821                485   \n",
            "3          0.000         0.000          3.537                 40   \n",
            "4          0.000         0.000          3.537                 40   \n",
            "\n",
            "   word_freq_make  class  \n",
            "0             278      1  \n",
            "1            1028      1  \n",
            "2            2259      1  \n",
            "3             191      1  \n",
            "4             191      1  \n",
            "\n",
            "[5 rows x 58 columns]\n"
          ]
        }
      ],
      "source": [
        "cols = ['capital_run_length_total','capital_run_length_longest','capital_run_length_average','char_freq_#','char_freq_$','char_freq_!','char_freq_[','char_freq_(','char_freq_;','word_freq_conference','word_freq_table','word_freq_edu','word_freq_re','word_freq_project','word_freq_original','word_freq_meeting','word_freq_cs','word_freq_direct','word_freq_pm','word_freq_parts','word_freq_1999','word_freq_technology','word_freq_85','word_freq_415','word_freq_data','word_freq_857','word_freq_telnet','word_freq_labs','word_freq_lab','word_freq_650','word_freq_george','word_freq_hpl','word_freq_hp','word_freq_money','word_freq_000','word_freq_font','word_freq_your','word_freq_credit','word_freq_you','word_freq_email','word_freq_business','word_freq_free','word_freq_addresses','word_freq_report','word_freq_people','word_freq_will','word_freq_receive','word_freq_mail','word_freq_order','word_freq_internet','word_freq_remove','word_freq_over','word_freq_our','word_freq_3d','word_freq_all','word_freq_address','word_freq_make','class']\n",
        "df = pd.read_csv('spambase.data' , names= cols )\n",
        "print(df.head())"
      ]
    },
    {
      "cell_type": "markdown",
      "metadata": {
        "id": "J9cECXESLfhx"
      },
      "source": [
        "# Data Visualisation"
      ]
    },
    {
      "cell_type": "code",
      "execution_count": null,
      "metadata": {
        "id": "p2SRDU7yLwYq",
        "outputId": "d1644fcd-f4e2-448a-f0a3-9a8a246db7a9",
        "colab": {
          "base_uri": "https://localhost:8080/"
        }
      },
      "outputs": [
        {
          "output_type": "stream",
          "name": "stdout",
          "text": [
            "capital_run_length_total      float64\n",
            "capital_run_length_longest    float64\n",
            "capital_run_length_average    float64\n",
            "char_freq_#                   float64\n",
            "char_freq_$                   float64\n",
            "char_freq_!                   float64\n",
            "char_freq_[                   float64\n",
            "char_freq_(                   float64\n",
            "char_freq_;                   float64\n",
            "word_freq_conference          float64\n",
            "word_freq_table               float64\n",
            "word_freq_edu                 float64\n",
            "word_freq_re                  float64\n",
            "word_freq_project             float64\n",
            "word_freq_original            float64\n",
            "word_freq_meeting             float64\n",
            "word_freq_cs                  float64\n",
            "word_freq_direct              float64\n",
            "word_freq_pm                  float64\n",
            "word_freq_parts               float64\n",
            "word_freq_1999                float64\n",
            "word_freq_technology          float64\n",
            "word_freq_85                  float64\n",
            "word_freq_415                 float64\n",
            "word_freq_data                float64\n",
            "word_freq_857                 float64\n",
            "word_freq_telnet              float64\n",
            "word_freq_labs                float64\n",
            "word_freq_lab                 float64\n",
            "word_freq_650                 float64\n",
            "word_freq_george              float64\n",
            "word_freq_hpl                 float64\n",
            "word_freq_hp                  float64\n",
            "word_freq_money               float64\n",
            "word_freq_000                 float64\n",
            "word_freq_font                float64\n",
            "word_freq_your                float64\n",
            "word_freq_credit              float64\n",
            "word_freq_you                 float64\n",
            "word_freq_email               float64\n",
            "word_freq_business            float64\n",
            "word_freq_free                float64\n",
            "word_freq_addresses           float64\n",
            "word_freq_report              float64\n",
            "word_freq_people              float64\n",
            "word_freq_will                float64\n",
            "word_freq_receive             float64\n",
            "word_freq_mail                float64\n",
            "word_freq_order               float64\n",
            "word_freq_internet            float64\n",
            "word_freq_remove              float64\n",
            "word_freq_over                float64\n",
            "word_freq_our                 float64\n",
            "word_freq_3d                  float64\n",
            "word_freq_all                 float64\n",
            "word_freq_address               int64\n",
            "word_freq_make                  int64\n",
            "class                           int64\n",
            "dtype: object\n"
          ]
        }
      ],
      "source": [
        "print(df.dtypes) #Check the data type of the attributes\n"
      ]
    },
    {
      "cell_type": "code",
      "execution_count": null,
      "metadata": {
        "id": "5c_MypJcLwYq",
        "outputId": "dc8288ce-ba3d-4ad7-db20-a7c2583f6d80",
        "colab": {
          "base_uri": "https://localhost:8080/"
        }
      },
      "outputs": [
        {
          "output_type": "stream",
          "name": "stdout",
          "text": [
            "(4601, 58)\n"
          ]
        }
      ],
      "source": [
        "print(df.shape) #Check the shape of the dataset"
      ]
    },
    {
      "cell_type": "code",
      "execution_count": null,
      "metadata": {
        "id": "LCstDvnCLwYr",
        "outputId": "7c2e9dec-0d54-4117-f203-e7d8f79f8a1d",
        "colab": {
          "base_uri": "https://localhost:8080/",
          "height": 143
        }
      },
      "outputs": [
        {
          "output_type": "execute_result",
          "data": {
            "text/plain": [
              "            counts     freqs\n",
              "categories                  \n",
              "spam          2788  0.605955\n",
              "not_spam      1813  0.394045"
            ],
            "text/html": [
              "\n",
              "  <div id=\"df-6efc9c31-dff2-44c2-99dc-9ec7b85c87b4\">\n",
              "    <div class=\"colab-df-container\">\n",
              "      <div>\n",
              "<style scoped>\n",
              "    .dataframe tbody tr th:only-of-type {\n",
              "        vertical-align: middle;\n",
              "    }\n",
              "\n",
              "    .dataframe tbody tr th {\n",
              "        vertical-align: top;\n",
              "    }\n",
              "\n",
              "    .dataframe thead th {\n",
              "        text-align: right;\n",
              "    }\n",
              "</style>\n",
              "<table border=\"1\" class=\"dataframe\">\n",
              "  <thead>\n",
              "    <tr style=\"text-align: right;\">\n",
              "      <th></th>\n",
              "      <th>counts</th>\n",
              "      <th>freqs</th>\n",
              "    </tr>\n",
              "    <tr>\n",
              "      <th>categories</th>\n",
              "      <th></th>\n",
              "      <th></th>\n",
              "    </tr>\n",
              "  </thead>\n",
              "  <tbody>\n",
              "    <tr>\n",
              "      <th>spam</th>\n",
              "      <td>2788</td>\n",
              "      <td>0.605955</td>\n",
              "    </tr>\n",
              "    <tr>\n",
              "      <th>not_spam</th>\n",
              "      <td>1813</td>\n",
              "      <td>0.394045</td>\n",
              "    </tr>\n",
              "  </tbody>\n",
              "</table>\n",
              "</div>\n",
              "      <button class=\"colab-df-convert\" onclick=\"convertToInteractive('df-6efc9c31-dff2-44c2-99dc-9ec7b85c87b4')\"\n",
              "              title=\"Convert this dataframe to an interactive table.\"\n",
              "              style=\"display:none;\">\n",
              "        \n",
              "  <svg xmlns=\"http://www.w3.org/2000/svg\" height=\"24px\"viewBox=\"0 0 24 24\"\n",
              "       width=\"24px\">\n",
              "    <path d=\"M0 0h24v24H0V0z\" fill=\"none\"/>\n",
              "    <path d=\"M18.56 5.44l.94 2.06.94-2.06 2.06-.94-2.06-.94-.94-2.06-.94 2.06-2.06.94zm-11 1L8.5 8.5l.94-2.06 2.06-.94-2.06-.94L8.5 2.5l-.94 2.06-2.06.94zm10 10l.94 2.06.94-2.06 2.06-.94-2.06-.94-.94-2.06-.94 2.06-2.06.94z\"/><path d=\"M17.41 7.96l-1.37-1.37c-.4-.4-.92-.59-1.43-.59-.52 0-1.04.2-1.43.59L10.3 9.45l-7.72 7.72c-.78.78-.78 2.05 0 2.83L4 21.41c.39.39.9.59 1.41.59.51 0 1.02-.2 1.41-.59l7.78-7.78 2.81-2.81c.8-.78.8-2.07 0-2.86zM5.41 20L4 18.59l7.72-7.72 1.47 1.35L5.41 20z\"/>\n",
              "  </svg>\n",
              "      </button>\n",
              "      \n",
              "  <style>\n",
              "    .colab-df-container {\n",
              "      display:flex;\n",
              "      flex-wrap:wrap;\n",
              "      gap: 12px;\n",
              "    }\n",
              "\n",
              "    .colab-df-convert {\n",
              "      background-color: #E8F0FE;\n",
              "      border: none;\n",
              "      border-radius: 50%;\n",
              "      cursor: pointer;\n",
              "      display: none;\n",
              "      fill: #1967D2;\n",
              "      height: 32px;\n",
              "      padding: 0 0 0 0;\n",
              "      width: 32px;\n",
              "    }\n",
              "\n",
              "    .colab-df-convert:hover {\n",
              "      background-color: #E2EBFA;\n",
              "      box-shadow: 0px 1px 2px rgba(60, 64, 67, 0.3), 0px 1px 3px 1px rgba(60, 64, 67, 0.15);\n",
              "      fill: #174EA6;\n",
              "    }\n",
              "\n",
              "    [theme=dark] .colab-df-convert {\n",
              "      background-color: #3B4455;\n",
              "      fill: #D2E3FC;\n",
              "    }\n",
              "\n",
              "    [theme=dark] .colab-df-convert:hover {\n",
              "      background-color: #434B5C;\n",
              "      box-shadow: 0px 1px 3px 1px rgba(0, 0, 0, 0.15);\n",
              "      filter: drop-shadow(0px 1px 2px rgba(0, 0, 0, 0.3));\n",
              "      fill: #FFFFFF;\n",
              "    }\n",
              "  </style>\n",
              "\n",
              "      <script>\n",
              "        const buttonEl =\n",
              "          document.querySelector('#df-6efc9c31-dff2-44c2-99dc-9ec7b85c87b4 button.colab-df-convert');\n",
              "        buttonEl.style.display =\n",
              "          google.colab.kernel.accessAllowed ? 'block' : 'none';\n",
              "\n",
              "        async function convertToInteractive(key) {\n",
              "          const element = document.querySelector('#df-6efc9c31-dff2-44c2-99dc-9ec7b85c87b4');\n",
              "          const dataTable =\n",
              "            await google.colab.kernel.invokeFunction('convertToInteractive',\n",
              "                                                     [key], {});\n",
              "          if (!dataTable) return;\n",
              "\n",
              "          const docLinkHtml = 'Like what you see? Visit the ' +\n",
              "            '<a target=\"_blank\" href=https://colab.research.google.com/notebooks/data_table.ipynb>data table notebook</a>'\n",
              "            + ' to learn more about interactive tables.';\n",
              "          element.innerHTML = '';\n",
              "          dataTable['output_type'] = 'display_data';\n",
              "          await google.colab.output.renderOutput(dataTable, element);\n",
              "          const docLink = document.createElement('div');\n",
              "          docLink.innerHTML = docLinkHtml;\n",
              "          element.appendChild(docLink);\n",
              "        }\n",
              "      </script>\n",
              "    </div>\n",
              "  </div>\n",
              "  "
            ]
          },
          "metadata": {},
          "execution_count": 285
        }
      ],
      "source": [
        "#Check the distribution of the spam vs not-spam \n",
        "new_class = pd.Categorical(df[\"class\"])\n",
        "new_class = new_class.rename_categories([\"spam\",\"not_spam\"])              \n",
        "new_class.describe()"
      ]
    },
    {
      "cell_type": "markdown",
      "source": [
        "#Data Cleaning"
      ],
      "metadata": {
        "collapsed": false,
        "id": "8LoPYdYWLwYs"
      }
    },
    {
      "cell_type": "code",
      "source": [
        "# Find NaNs and duplicates in df\n",
        "\n",
        "print('There are {} missing values or NaNs in data.'\n",
        "      .format(df.isnull().values.sum()))\n",
        "\n",
        "temp_energy = df.duplicated(keep='first').sum()\n",
        "\n",
        "print('There are {} duplicate rows in data based on all columns.'\n",
        "      .format(temp_energy))\n",
        "\n",
        "df = df.drop_duplicates()   #drop the duplicates"
      ],
      "metadata": {
        "id": "DM9FBMzIScMR",
        "outputId": "fb731fc8-85a1-4281-efc4-76294fe89231",
        "colab": {
          "base_uri": "https://localhost:8080/"
        }
      },
      "execution_count": null,
      "outputs": [
        {
          "output_type": "stream",
          "name": "stdout",
          "text": [
            "There are 0 missing values or NaNs in data.\n",
            "There are 391 duplicate rows in data based on all columns.\n"
          ]
        }
      ]
    },
    {
      "cell_type": "code",
      "source": [
        "# extract the features\n",
        "features = df.drop('class', axis=1)\n",
        "# extract the labels\n",
        "labels = df['class']"
      ],
      "metadata": {
        "id": "9QXS232Dzbdl"
      },
      "execution_count": null,
      "outputs": []
    },
    {
      "cell_type": "code",
      "source": [
        "# Scale the data\n",
        "scaler = StandardScaler()\n",
        "X_scaled = scaler.fit_transform(features)"
      ],
      "metadata": {
        "id": "JYJ8hDPAZ3fW"
      },
      "execution_count": null,
      "outputs": []
    },
    {
      "cell_type": "code",
      "source": [
        "# Handle outliers\n",
        "X_winsorized = winsorize(X_scaled, limits=[0.05, 0.05])"
      ],
      "metadata": {
        "id": "NNJKTGH5vPvd"
      },
      "execution_count": null,
      "outputs": []
    },
    {
      "cell_type": "markdown",
      "source": [
        "# PCA"
      ],
      "metadata": {
        "id": "l4kKZYl9BWcq"
      }
    },
    {
      "cell_type": "code",
      "source": [
        "pca = PCA(n_components=20)\n",
        "X_pca = pca.fit_transform(X_winsorized)"
      ],
      "metadata": {
        "id": "kSm_R43Oc9S7"
      },
      "execution_count": null,
      "outputs": []
    },
    {
      "cell_type": "code",
      "source": [
        "print(X_winsorized.shape) # shape of dataframe before applying PCA\n",
        "print(X_pca.shape) # shape of dataframe after applying PCA"
      ],
      "metadata": {
        "id": "QE1NP_M4dJ9V",
        "outputId": "acb99bf3-661a-405c-e1fc-095242446f27",
        "colab": {
          "base_uri": "https://localhost:8080/"
        }
      },
      "execution_count": null,
      "outputs": [
        {
          "output_type": "stream",
          "name": "stdout",
          "text": [
            "(4210, 57)\n",
            "(4210, 20)\n"
          ]
        }
      ]
    },
    {
      "cell_type": "markdown",
      "source": [
        "\n",
        "\n",
        "---\n",
        "\n"
      ],
      "metadata": {
        "id": "CCV7UPh4CnKs"
      }
    },
    {
      "cell_type": "code",
      "source": [
        "# handle class imbalance using oversampling technique\n",
        "smote = SMOTE()\n",
        "X_resampled, y_resampled = smote.fit_resample(X_pca, labels)"
      ],
      "metadata": {
        "id": "XhQ7gYdUdXG7"
      },
      "execution_count": null,
      "outputs": []
    },
    {
      "cell_type": "code",
      "source": [
        "# split dataset\n",
        "X_train, X_test, y_train, y_test = train_test_split(X_resampled, y_resampled, test_size=0.25, random_state=0)"
      ],
      "metadata": {
        "id": "18mdK9Z27qC6"
      },
      "execution_count": null,
      "outputs": []
    },
    {
      "cell_type": "markdown",
      "source": [
        "# KNN classification"
      ],
      "metadata": {
        "id": "n63sTo1qWGvQ"
      }
    },
    {
      "cell_type": "code",
      "source": [
        "knn = KNeighborsClassifier(n_neighbors=3)\n",
        "knn.fit(X_train, y_train)\n",
        "y_pred = knn.predict(X_test)\n",
        "y_true = y_test"
      ],
      "metadata": {
        "id": "KcSenNhl5qnd"
      },
      "execution_count": null,
      "outputs": []
    },
    {
      "cell_type": "markdown",
      "source": [
        "# Evaluations"
      ],
      "metadata": {
        "id": "dH1oOJu3WB5A"
      }
    },
    {
      "cell_type": "code",
      "source": [
        "# calculate and store accuracy score\n",
        "score = accuracy_score(y_true, y_pred) \n",
        "\n",
        "# get the confusion matrix\n",
        "conf_matrix = confusion_matrix(y_true, y_pred)   \n",
        "\n",
        "# get the classification report\n",
        "class_report = classification_report(y_true, y_pred) \n",
        "\n",
        "# print results\n",
        "print(\"Accuracy score:\", score)\n",
        "print(\"Confusion matrix:\")\n",
        "print(conf_matrix)\n",
        "print(\"\\nClassification report:\")\n",
        "print(class_report)"
      ],
      "metadata": {
        "id": "dk4Qfp7au4dV",
        "outputId": "3ee6f865-a333-4de5-8cc6-869c3c5bef53",
        "colab": {
          "base_uri": "https://localhost:8080/"
        }
      },
      "execution_count": null,
      "outputs": [
        {
          "output_type": "stream",
          "name": "stdout",
          "text": [
            "Accuracy score: 0.9360189573459715\n",
            "Confusion matrix:\n",
            "[[587  46]\n",
            " [ 35 598]]\n",
            "\n",
            "Classification report:\n",
            "              precision    recall  f1-score   support\n",
            "\n",
            "           0       0.94      0.93      0.94       633\n",
            "           1       0.93      0.94      0.94       633\n",
            "\n",
            "    accuracy                           0.94      1266\n",
            "   macro avg       0.94      0.94      0.94      1266\n",
            "weighted avg       0.94      0.94      0.94      1266\n",
            "\n"
          ]
        }
      ]
    },
    {
      "cell_type": "markdown",
      "source": [
        "\n",
        "\n",
        "---\n",
        "\n"
      ],
      "metadata": {
        "id": "fJ3qFUuNwyRr"
      }
    },
    {
      "cell_type": "markdown",
      "source": [
        "# Decision Tree classification"
      ],
      "metadata": {
        "id": "MDq0HG7WWXcx"
      }
    },
    {
      "cell_type": "code",
      "source": [
        "dtc = DecisionTreeClassifier()\n",
        "dtc.fit(X_train, y_train)\n",
        "y_pred1 = dtc.predict(X_test)\n",
        "y_true1 = y_test"
      ],
      "metadata": {
        "id": "B5utA2du6-4L"
      },
      "execution_count": null,
      "outputs": []
    },
    {
      "cell_type": "markdown",
      "source": [
        "# Evaluations"
      ],
      "metadata": {
        "id": "cOqe_ZdJabd2"
      }
    },
    {
      "cell_type": "code",
      "source": [
        "# calculate and store accuracy score\n",
        "score1 = accuracy_score(y_true, y_pred1) \n",
        "\n",
        "# get the confusion matrix\n",
        "conf_matrix1 = confusion_matrix(y_true, y_pred1)   \n",
        "\n",
        "# get the classification report\n",
        "class_report1 = classification_report(y_true, y_pred1) \n",
        "\n",
        "# print results\n",
        "print(\"Accuracy score:\", score1)\n",
        "print(\"Confusion matrix:\")\n",
        "print(conf_matrix1)\n",
        "print(\"\\nClassification report:\")\n",
        "print(class_report1)"
      ],
      "metadata": {
        "id": "Enas8wvQ7QYT",
        "outputId": "a150d140-ac8e-4d37-963c-9bde9575362a",
        "colab": {
          "base_uri": "https://localhost:8080/"
        }
      },
      "execution_count": null,
      "outputs": [
        {
          "output_type": "stream",
          "name": "stdout",
          "text": [
            "Accuracy score: 0.9028436018957346\n",
            "Confusion matrix:\n",
            "[[564  69]\n",
            " [ 54 579]]\n",
            "\n",
            "Classification report:\n",
            "              precision    recall  f1-score   support\n",
            "\n",
            "           0       0.91      0.89      0.90       633\n",
            "           1       0.89      0.91      0.90       633\n",
            "\n",
            "    accuracy                           0.90      1266\n",
            "   macro avg       0.90      0.90      0.90      1266\n",
            "weighted avg       0.90      0.90      0.90      1266\n",
            "\n"
          ]
        }
      ]
    }
  ],
  "metadata": {
    "colab": {
      "provenance": [],
      "include_colab_link": true
    },
    "kernelspec": {
      "display_name": "Python 3",
      "language": "python",
      "name": "python3"
    },
    "language_info": {
      "codemirror_mode": {
        "name": "ipython",
        "version": 3
      },
      "file_extension": ".py",
      "mimetype": "text/x-python",
      "name": "python",
      "nbconvert_exporter": "python",
      "pygments_lexer": "ipython3",
      "version": "3.7.4"
    },
    "vscode": {
      "interpreter": {
        "hash": "d983aa2a2bc164ca145b74c30a077245dc65a11395320957faf99b524e3477cb"
      }
    },
    "gpuClass": "standard"
  },
  "nbformat": 4,
  "nbformat_minor": 0
}